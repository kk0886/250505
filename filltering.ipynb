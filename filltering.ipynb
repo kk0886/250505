{
 "cells": [
  {
   "cell_type": "code",
   "execution_count": null,
   "id": "01ac0d34",
   "metadata": {},
   "outputs": [],
   "source": [
    "import numpy as np\n",
    "import cv2\n",
    "from matplotlib import pyplot as plt\n",
    "img = cv2.imread('jiyi.jpg')\n",
    "kernel = np.ones((5, 5), np.float32) / 25\n",
    "dst = cv2.filter2D(img, -1, kernel)\n",
    "plt.imshow(cv2.cvtColor(dst, cv2.COLOR_BGR2RGB))\n",
    "plt.title('Filtered Image')\n",
    "plt.axis('off')  \n",
    "plt.show()"
   ]
  }
 ],
 "metadata": {
  "language_info": {
   "name": "python"
  }
 },
 "nbformat": 4,
 "nbformat_minor": 5
}
